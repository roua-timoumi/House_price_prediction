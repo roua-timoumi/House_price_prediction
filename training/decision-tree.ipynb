{
 "cells": [
  {
   "cell_type": "code",
   "execution_count": null,
   "id": "088c475f",
   "metadata": {},
   "outputs": [],
   "source": [
    "import pandas as pd\n",
    "df_vente = pd.read_csv('ventes.csv')"
   ]
  },
  {
   "cell_type": "code",
   "execution_count": 5,
   "id": "08c208d0",
   "metadata": {},
   "outputs": [],
   "source": [
    "df_vente = pd.get_dummies(df_vente, columns=['Property Type', 'Governorate', 'Location'])"
   ]
  },
  {
   "cell_type": "code",
   "execution_count": 6,
   "id": "6f05bf11",
   "metadata": {},
   "outputs": [],
   "source": [
    "from sklearn.model_selection import train_test_split\n",
    "from sklearn.tree import DecisionTreeRegressor\n",
    "from sklearn.metrics import mean_absolute_error, r2_score\n",
    "X_vente = df_vente.drop(columns=['Price'])  \n",
    "y_vente = df_vente['Price']  "
   ]
  },
  {
   "cell_type": "code",
   "execution_count": 7,
   "id": "d919afd4",
   "metadata": {},
   "outputs": [],
   "source": [
    "X_train, X_test, y_train, y_test = train_test_split(X_vente, y_vente, test_size=0.2, random_state=42)"
   ]
  },
  {
   "cell_type": "code",
   "execution_count": 8,
   "id": "25a44d2c",
   "metadata": {},
   "outputs": [
    {
     "name": "stdout",
     "output_type": "stream",
     "text": [
      "hello\n"
     ]
    }
   ],
   "source": [
    "model_vente = DecisionTreeRegressor(random_state=42)\n",
    "model_vente.fit(X_train, y_train)\n",
    "print(\"hello\")"
   ]
  },
  {
   "cell_type": "code",
   "execution_count": 9,
   "id": "642c93c2",
   "metadata": {},
   "outputs": [],
   "source": [
    "y_pred_vente = model_vente.predict(X_test)\n"
   ]
  },
  {
   "cell_type": "code",
   "execution_count": 10,
   "id": "fe0a4eed",
   "metadata": {},
   "outputs": [
    {
     "name": "stdout",
     "output_type": "stream",
     "text": [
      "[ 580000.          395000.          854000.          280000.\n",
      " 1600000.          650000.          219000.          950000.\n",
      "  235000.         1300000.          310000.          600000.\n",
      "  249000.         1200000.          370000.         1050000.\n",
      "  980000.         1100000.          980000.          230000.\n",
      "  382180.          419500.          320000.          479000.\n",
      " 1050000.          650000.          300000.          470000.\n",
      " 3000000.          800000.          315000.          780000.\n",
      " 1600000.          150000.          320000.          750000.\n",
      "  800000.          370000.          750000.          260000.\n",
      " 1200000.          330000.          285000.          240000.\n",
      "  149997.          980000.           85000.          350000.\n",
      " 1000000.          280000.          400000.          280333.33333333\n",
      "  689999.5         317250.          220000.          240000.\n",
      "  630000.          540000.          980000.          320000.\n",
      "  175000.          780000.          230000.          350000.\n",
      " 1480000.          275000.          850000.          400000.\n",
      "  438000.          715708.          470000.          995000.\n",
      "  780000.          130000.          420000.          285000.\n",
      "  510000.          380000.          940000.          400000.\n",
      "  190000.          680000.          880000.          240000.\n",
      "  385000.         3500000.         6500000.           98000.\n",
      "  105000.          280000.          170000.          165000.\n",
      "  404000.          980000.         1300000.          400000.\n",
      "  230000.          850000.          490000.         2300000.\n",
      "  980000.          950000.          370000.           95000.\n",
      "  990000.          364500.          230000.          150000.\n",
      "  950000.          275000.          175000.          210000.\n",
      "   78000.          680000.          315000.         1600000.\n",
      "  280000.          320000.          980000.          230000.\n",
      "  350000.          299999.          132500.          280000.\n",
      "  350000.          230000.          480000.          600000.\n",
      "  250000.          350000.          530000.          570000.\n",
      "  300000.          180000.          850000.          750000.\n",
      "  460000.          160000.         2100000.          235000.\n",
      " 2000000.          185000.          800000.          419000.\n",
      "  390000.          650000.          300000.          300000.\n",
      "  275000.          650000.          990000.          180000.\n",
      "  235000.          215000.          580000.          249000.\n",
      "  450000.          680000.          495000.          275000.\n",
      "  420000.         1300000.          500000.          290000.\n",
      "  470000.          790000.          549999.          930000.\n",
      "  180000.          420000.         3300000.          570000.\n",
      "  349999.5         200000.          126000.          235800.\n",
      " 1450000.          700000.          480000.          640000.\n",
      " 1100000.          145000.          990000.          164999.4\n",
      "  750000.          319000.          100000.          580000.\n",
      "  350000.          190000.          750000.          175000.\n",
      "  400000.          250000.          950000.          150000.\n",
      "  250000.          183000.          380000.          190000.\n",
      "  700000.          260000.          230000.          300000.\n",
      " 2000000.          255000.         1500000.          650000.\n",
      "  485000.           70000.          115000.          170000.\n",
      "  165000.          850000.          235000.          240000.\n",
      " 1390000.          690000.         2700000.          175000.\n",
      "  870000.          395000.          850000.          849000.\n",
      " 1350000.          250000.          330000.          370000.\n",
      "  250000.          870000.          100000.          135000.\n",
      "  467500.          237000.          165000.          260000.\n",
      " 1450000.          580000.          362999.          190000.\n",
      "  467500.          200000.          300000.          495000.\n",
      "  495000.         1550000.          230000.          177500.\n",
      "  420000.          750000.          750000.          250000.\n",
      "  980000.          280000.          990000.          275000.\n",
      " 1350000.          370000.          432500.          215000.\n",
      "  800000.          223000.          850000.          230000.\n",
      " 1289998.          480000.          620000.          145000.\n",
      "  475000.          145000.         2000000.         1600000.\n",
      "  150000.          880000.          250000.          470000.\n",
      "  295000.          404000.          145000.           85000.\n",
      "  235000.          107500.          650000.          520000.\n",
      "  400000.           83000.          165000.          495000.\n",
      "  280000.          235000.          365000.          520000.\n",
      "  220000.          460000.          400000.         1450000.\n",
      " 2600000.         1100000.          420000.          630000.\n",
      "  170000.          850000.          160000.          450000.\n",
      "  854000.          235000.          850000.          400000.\n",
      "   70000.          640000.          150000.          362999.\n",
      "  235000.          225000.          715000.          587000.\n",
      "  750000.          157000.          430000.          320000.\n",
      " 1250000.          362500.          380000.          339998.\n",
      "  460000.          260000.          145000.          350000.\n",
      "  250500.          400000.         1150000.          300000.\n",
      "  380000.          800000.          220000.          450000.\n",
      "  359600.          467500.         1600000.          230000.\n",
      "  177500.         1160000.          580000.          280000.\n",
      "  175000.          689999.5         460000.         1450000.\n",
      "  750000.          680000.          202499.          326333.33333333\n",
      "  145000.          495000.          170000.          980000.\n",
      "  289999.          358000.          380000.          400000.\n",
      "  374000.          231000.          854000.          235000.\n",
      "  225000.          247500.          200000.          226998.\n",
      "  140000.          180000.         1050000.          690000.\n",
      "  485000.          160000.          170000.          467500.\n",
      "  345000.          550000.          404000.          110000.\n",
      "  395000.          345000.          319000.          500000.\n",
      "  304000.          240000.          380000.          590000.\n",
      "  680000.         1120000.          550000.          370000.\n",
      "   40000.          240000.          450000.          164999.4\n",
      "  240000.          350000.          150000.          440000.\n",
      "  125000.          800000.          319000.          420000.\n",
      "  980000.          950000.          850000.          155000.\n",
      "  319000.          350000.          195000.          460000.\n",
      "  140000.          460000.          690000.          520000.\n",
      "  320000.          120000.         2000000.          299000.\n",
      " 1350000.          349999.          280000.          750000.\n",
      "  399999.          680000.          450000.          700000.\n",
      "  120000.          880000.          300000.         1111111.\n",
      "  750000.          240000.          980000.          550000.\n",
      "  150000.          110000.          550000.          128000.\n",
      "  379999.         1500000.         1350000.          219000.\n",
      "  200000.          340000.          220000.          800000.\n",
      "  123456.          475000.          169000.           89000.\n",
      "  230000.          550000.          365000.          600000.\n",
      "  280000.          160000.          350000.           89000.\n",
      "  470000.          900000.          365000.          410000.\n",
      "   95000.          800000.         1289998.          640000.\n",
      "  440000.          270000.          130000.          255000.\n",
      "  880000.          170000.         4300000.          160000.\n",
      "  250000.          310000.          440300.          350000.\n",
      "  480000.          460000.         1500000.          980000.\n",
      "  290000.          272000.         6500000.          839800.\n",
      "  190000.          373000.          160000.          280333.33333333\n",
      "  315000.          450000.          258000.          110000.\n",
      "  230000.          237000.         1550000.          880000.\n",
      "  558000.          990000.          382180.          485000.\n",
      "  270000.          125000.          200000.          854000.\n",
      "  326333.33333333  700000.         1100000.          600000.\n",
      "  370000.         1111111.          550000.          590000.\n",
      "  220000.          630000.          232499.         1049999.5\n",
      "  320000.          125000.          495000.          800000.\n",
      "  240000.          580000.          410000.          375000.\n",
      "  450000.         1400000.          404000.          340000.\n",
      "  319000.          380000.          950000.          430000.\n",
      "  165000.          950000.          270000.         2000000.\n",
      "  250000.          600000.          240000.          950000.\n",
      "  580000.          620000.         2900000.          350000.\n",
      "  373000.         1200000.          400000.          950000.\n",
      "  126000.          340000.         1190000.          280000.\n",
      "  750000.          183000.          220000.          255000.\n",
      "  125000.          390000.          425000.          135000.\n",
      "  362999.          580000.          349999.5         110000.\n",
      "  226998.          350000.          315000.          580000.\n",
      "  220000.          360000.          999999.          855000.\n",
      " 1600000.          362500.          220000.          255000.\n",
      " 2600000.         1200000.          790000.          630000.\n",
      "  150000.          255000.          120000.          365000.\n",
      "  380000.          230000.          235000.          194998.\n",
      "  175000.          175000.          850000.         3300000.\n",
      "  180000.          290000.          280000.          420000.\n",
      "  150000.          350000.         3200000.          320000.\n",
      "  290000.          235000.           86500.          249000.\n",
      "  590000.          490000.          450000.        ]\n"
     ]
    }
   ],
   "source": [
    "print (y_pred_vente)"
   ]
  },
  {
   "cell_type": "code",
   "execution_count": 11,
   "id": "9f40daa0",
   "metadata": {},
   "outputs": [],
   "source": [
    "mae = mean_absolute_error(y_test, y_pred_vente)\n",
    "r2 = r2_score(y_test, y_pred_vente)"
   ]
  },
  {
   "cell_type": "code",
   "execution_count": 12,
   "id": "7f4dd246",
   "metadata": {},
   "outputs": [
    {
     "name": "stdout",
     "output_type": "stream",
     "text": [
      "Évaluation du modèle sur les données de vente:\n",
      "Mean Absolute Error: 239566.40889252594\n",
      "R² Score: 0.21184023434707466\n"
     ]
    }
   ],
   "source": [
    "print(\"Évaluation du modèle sur les données de vente:\")\n",
    "print(f\"Mean Absolute Error: {mae}\")\n",
    "print(f\"R² Score: {r2}\")"
   ]
  },
  {
   "cell_type": "code",
   "execution_count": null,
   "id": "ce8ebdf4",
   "metadata": {},
   "outputs": [
    {
     "name": "stdout",
     "output_type": "stream",
     "text": [
      "Model Performance Metrics:\n",
      "Mean Absolute Error (MAE): 39.49\n",
      "Mean Squared Error (MSE): 12727.58\n",
      "Root Mean Squared Error (RMSE): 112.82\n",
      "R² Score: 0.9715\n"
     ]
    }
   ],
   "source": [
    "import pandas as pd\n",
    "import numpy as np\n",
    "from sklearn.model_selection import train_test_split\n",
    "from sklearn.preprocessing import MinMaxScaler, LabelEncoder\n",
    "from sklearn.tree import DecisionTreeRegressor\n",
    "from sklearn.metrics import mean_absolute_error, mean_squared_error, r2_score\n",
    "from sklearn.model_selection import GridSearchCV\n",
    "\n",
    "# Load the dataset\n",
    "file_path = r\"locations.csv\"\n",
    "data = pd.read_csv(file_path)\n",
    "\n",
    "# Feature Engineering\n",
    "# Room-to-Bathroom Ratio\n",
    "data['Room_to_Bathroom_Ratio'] = data['Bedrooms'] / data['Bathrooms']\n",
    "data['Room_to_Bathroom_Ratio'] = data['Room_to_Bathroom_Ratio'].replace([np.inf, -np.inf], np.nan)\n",
    "data = data.dropna(subset=['Room_to_Bathroom_Ratio'])\n",
    "\n",
    "# Price per square meter\n",
    "data['Price_per_m2'] = data['Price'] / data['Area (m²)']\n",
    "\n",
    "# Handle outliers using IQR\n",
    "q1 = data['Price'].quantile(0.25)\n",
    "q3 = data['Price'].quantile(0.75)\n",
    "iqr = q3 - q1\n",
    "outliers = (data['Price'] < (q1 - 1.5 * iqr)) | (data['Price'] > (q3 + 1.5 * iqr))\n",
    "data = data[~outliers]\n",
    "\n",
    "# Scale numeric features\n",
    "numeric_features = ['Area (m²)', 'Price_per_m2', 'Room_to_Bathroom_Ratio']\n",
    "scaler = MinMaxScaler()\n",
    "data[numeric_features] = scaler.fit_transform(data[numeric_features])\n",
    "\n",
    "# Encode categorical features\n",
    "label_encoder = LabelEncoder()\n",
    "data['Property Type'] = label_encoder.fit_transform(data['Property Type'])\n",
    "data['Governorate'] = label_encoder.fit_transform(data['Governorate'])\n",
    "data['Location'] = label_encoder.fit_transform(data['Location'])\n",
    "\n",
    "# Define Features and Target\n",
    "X = data.drop(columns=['Price'])\n",
    "y = data['Price']\n",
    "\n",
    "# Train-Test Split\n",
    "X_train, X_test, y_train, y_test = train_test_split(X, y, test_size=0.2, random_state=42)\n",
    "\n",
    "# Hyperparameter Tuning for DecisionTreeRegressor\n",
    "param_grid = {\n",
    "    'max_depth': [None, 5, 10, 15],          \n",
    "    'min_samples_split': [2, 5, 10],         \n",
    "    'min_samples_leaf': [1, 2, 4],           \n",
    "    'max_features': [None, 'sqrt', 'log2']   \n",
    "}\n",
    "\n",
    "grid_search = GridSearchCV(DecisionTreeRegressor(random_state=42), param_grid, cv=5)\n",
    "grid_search.fit(X_train, y_train)\n",
    "\n",
    "# Best model after hyperparameter tuning\n",
    "best_model = grid_search.best_estimator_\n",
    "\n",
    "# Make predictions\n",
    "y_pred = best_model.predict(X_test)\n",
    "\n",
    "# Evaluate the Model\n",
    "mae = mean_absolute_error(y_test, y_pred)\n",
    "mse = mean_squared_error(y_test, y_pred)\n",
    "r2 = r2_score(y_test, y_pred)\n",
    "\n",
    "print(\"Model Performance Metrics:\")\n",
    "print(f\"Mean Absolute Error (MAE): {mae:.2f}\")\n",
    "print(f\"Mean Squared Error (MSE): {mse:.2f}\")\n",
    "print(f\"Root Mean Squared Error (RMSE): {np.sqrt(mse):.2f}\")\n",
    "print(f\"R² Score: {r2:.4f}\")\n"
   ]
  },
  {
   "cell_type": "code",
   "execution_count": 3,
   "id": "1877e36c",
   "metadata": {},
   "outputs": [
    {
     "data": {
      "image/png": "[encoded data removed]",
      "text/plain": [
       "<Figure size 640x480 with 1 Axes>"
      ]
     },
     "metadata": {},
     "output_type": "display_data"
    }
   ],
   "source": [
    "import matplotlib.pyplot as plt\n",
    "\n",
    "plt.scatter(y_test, y_pred)\n",
    "plt.xlabel(\"Actual Price\")\n",
    "plt.ylabel(\"Predicted Price\")\n",
    "plt.title(\"Actual vs. Predicted Prices\")\n",
    "plt.show()"
   ]
  },
  {
   "cell_type": "code",
   "execution_count": null,
   "id": "8aba1aa4",
   "metadata": {},
   "outputs": [
    {
     "name": "stdout",
     "output_type": "stream",
     "text": [
      "Predicted Price: 100.00\n"
     ]
    }
   ],
   "source": [
    "# Single example to test\n",
    "new_sample = pd.DataFrame({\n",
    "    'Bedrooms': [2],\n",
    "    'Bathrooms': [1],\n",
    "    'Area (m²)': [100],\n",
    "    'Property Type': 'Appartement',\n",
    "    'Governorate': ['Tunis'],\n",
    "    'Location': ['La Marsa']\n",
    "})\n",
    "\n",
    "\n",
    "new_sample['Room_to_Bathroom_Ratio'] = new_sample['Bedrooms'] / new_sample['Bathrooms']\n",
    "\n",
    "# Calculate Price per square meter \n",
    "new_sample['Price_per_m2'] = 0  \n",
    "\n",
    "def safe_transform(label_encoder, value):\n",
    "    if value in label_encoder.classes_:\n",
    "        return label_encoder.transform([value])[0]\n",
    "    else:\n",
    "        return -1  \n",
    "\n",
    "# Apply safe_transform for categorical encoding\n",
    "new_sample['Property Type'] = new_sample['Property Type'].apply(lambda x: safe_transform(label_encoder, x))\n",
    "new_sample['Governorate'] = new_sample['Governorate'].apply(lambda x: safe_transform(label_encoder, x))\n",
    "new_sample['Location'] = new_sample['Location'].apply(lambda x: safe_transform(label_encoder, x))\n",
    "\n",
    "# Scale numeric features\n",
    "new_sample[numeric_features] = scaler.transform(new_sample[numeric_features])\n",
    "\n",
    "new_sample = new_sample[X.columns]\n",
    "# Predict the price\n",
    "predicted_price = best_model.predict(new_sample)\n",
    "print(f\"Predicted Price: {predicted_price[0]:.2f}\")\n"
   ]
  },
  {
   "cell_type": "code",
   "execution_count": null,
   "id": "15baf58e",
   "metadata": {},
   "outputs": [
    {
     "name": "stdout",
     "output_type": "stream",
     "text": [
      "Model Performance Metrics:\n",
      "Mean Absolute Error (MAE): 39.34\n",
      "Mean Squared Error (MSE): 11039.19\n",
      "Root Mean Squared Error (RMSE): 105.07\n",
      "R² Score: 0.9717\n"
     ]
    }
   ],
   "source": [
    "import pandas as pd\n",
    "import numpy as np\n",
    "from sklearn.model_selection import train_test_split\n",
    "from sklearn.preprocessing import LabelEncoder\n",
    "from sklearn.tree import DecisionTreeRegressor\n",
    "from sklearn.metrics import mean_absolute_error, mean_squared_error, r2_score\n",
    "from sklearn.model_selection import GridSearchCV\n",
    "\n",
    "file_path = r\"locations_updated.csv\"\n",
    "data = pd.read_csv(file_path)\n",
    "\n",
    "# Feature Engineering\n",
    "data['Room_to_Bathroom_Ratio'] = data['Bedrooms'] / data['Bathrooms']\n",
    "data['Room_to_Bathroom_Ratio'] = data['Room_to_Bathroom_Ratio'].replace([np.inf, -np.inf], np.nan)\n",
    "data = data.dropna(subset=['Room_to_Bathroom_Ratio'])\n",
    "\n",
    "# Price per square meter\n",
    "data['Price_per_m2'] = data['Price'] / data['Area (m²)']\n",
    "\n",
    "q1 = data['Price'].quantile(0.25)\n",
    "q3 = data['Price'].quantile(0.75)\n",
    "iqr = q3 - q1\n",
    "outliers = (data['Price'] < (q1 - 1.5 * iqr)) | (data['Price'] > (q3 + 1.5 * iqr))\n",
    "data = data[~outliers]\n",
    "\n",
    "# Encode categorical features\n",
    "label_encoder = LabelEncoder()\n",
    "data['Property Type'] = label_encoder.fit_transform(data['Property Type'])\n",
    "data['Governorate'] = label_encoder.fit_transform(data['Governorate'])\n",
    "data['Location'] = label_encoder.fit_transform(data['Location'])\n",
    "\n",
    "X = data.drop(columns=['Price'])\n",
    "y = data['Price']\n",
    "\n",
    "X_train, X_test, y_train, y_test = train_test_split(X, y, test_size=0.2, random_state=42)\n",
    "\n",
    "# Hyperparameter Tuning for DecisionTreeRegressor\n",
    "param_grid = {\n",
    "    'max_depth': [None, 5, 10, 15],          \n",
    "    'min_samples_split': [2, 5, 10],        \n",
    "    'min_samples_leaf': [1, 2, 4],          \n",
    "    'max_features': [None, 'sqrt', 'log2']   \n",
    "}\n",
    "\n",
    "grid_search = GridSearchCV(DecisionTreeRegressor(random_state=42), param_grid, cv=5)\n",
    "grid_search.fit(X_train, y_train)\n",
    "\n",
    "# Best model after hyperparameter tuning\n",
    "best_model = grid_search.best_estimator_\n",
    "\n",
    "y_pred = best_model.predict(X_test)\n",
    "\n",
    "# Evaluate the Model\n",
    "mae = mean_absolute_error(y_test, y_pred)\n",
    "mse = mean_squared_error(y_test, y_pred)\n",
    "r2 = r2_score(y_test, y_pred)\n",
    "\n",
    "print(\"Model Performance Metrics:\")\n",
    "print(f\"Mean Absolute Error (MAE): {mae:.2f}\")\n",
    "print(f\"Mean Squared Error (MSE): {mse:.2f}\")\n",
    "print(f\"Root Mean Squared Error (RMSE): {np.sqrt(mse):.2f}\")\n",
    "print(f\"R² Score: {r2:.4f}\")\n"
   ]
  },
  {
   "cell_type": "code",
   "execution_count": 4,
   "id": "25825af2",
   "metadata": {},
   "outputs": [
    {
     "data": {
      "image/png": "[encoded data removed]",
      "text/plain": [
       "<Figure size 640x480 with 1 Axes>"
      ]
     },
     "metadata": {},
     "output_type": "display_data"
    }
   ],
   "source": [
    "import matplotlib.pyplot as plt\n",
    "\n",
    "plt.scatter(y_test, y_pred)\n",
    "plt.xlabel(\"Actual Price\")\n",
    "plt.ylabel(\"Predicted Price\")\n",
    "plt.title(\"Actual vs. Predicted Prices\")\n",
    "plt.show()"
   ]
  }
 ],
 "metadata": {
  "kernelspec": {
   "display_name": "base",
   "language": "python",
   "name": "python3"
  },
  "language_info": {
   "codemirror_mode": {
    "name": "ipython",
    "version": 3
   },
   "file_extension": ".py",
   "mimetype": "text/x-python",
   "name": "python",
   "nbconvert_exporter": "python",
   "pygments_lexer": "ipython3",
   "version": "3.12.7"
  }
 },
 "nbformat": 4,
 "nbformat_minor": 5
}
