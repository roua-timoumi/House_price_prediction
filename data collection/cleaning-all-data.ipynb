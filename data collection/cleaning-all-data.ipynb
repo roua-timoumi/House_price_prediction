{
 "cells": [
  {
   "cell_type": "code",
   "execution_count": 1,
   "id": "07ff8e2b",
   "metadata": {},
   "outputs": [
    {
     "name": "stdout",
     "output_type": "stream",
     "text": [
      "  Property Type Governorate                 Location Area (m²)  Bedrooms  \\\n",
      "0   Appartement      Sousse            Hammam Sousse      82.0       1.0   \n",
      "1   Appartement     Manouba               La Manouba     141.0       3.0   \n",
      "2   Appartement      Ariana  Borj Louzir à La Soukra      76.0       NaN   \n",
      "3   Appartement     Manouba               La Manouba      68.0       NaN   \n",
      "4   Appartement      Ariana                La Soukra     125.0       2.0   \n",
      "\n",
      "  Bathrooms Transaction Type    Price  \n",
      "0       1.0         À Vendre  328 000  \n",
      "1       2.0         À Vendre  360 000  \n",
      "2       NaN         À Vendre  197 600  \n",
      "3       NaN         À Vendre      NaN  \n",
      "4       2.0         À Vendre      NaN  \n",
      "                  Valeurs manquantes  Pourcentage\n",
      "Property Type                      0     0.000000\n",
      "Governorate                        0     0.000000\n",
      "Location                           0     0.000000\n",
      "Area (m²)                        517     4.590251\n",
      "Bedrooms                         421     3.737903\n",
      "Bathrooms                        461     4.093048\n",
      "Transaction Type                 166     1.473852\n",
      "Price                             79     0.701412\n"
     ]
    }
   ],
   "source": [
    "import pandas as pd\n",
    "file = 'combined_data.csv' \n",
    "data = pd.read_csv(file)\n",
    "\n",
    "print(data.head())\n",
    "\n",
    "missing_counts = data.isnull().sum()\n",
    "\n",
    "missing_percentage = (data.isnull().sum() / len(data)) * 100\n",
    "\n",
    "missing_data = pd.DataFrame({\n",
    "    'Valeurs manquantes': missing_counts,\n",
    "    'Pourcentage': missing_percentage\n",
    "})\n",
    "\n",
    "print(missing_data)\n"
   ]
  },
  {
   "cell_type": "code",
   "execution_count": null,
   "id": "42e7d208",
   "metadata": {},
   "outputs": [
    {
     "name": "stdout",
     "output_type": "stream",
     "text": [
      "      Property Type Governorate                 Location  Area (m²)  Bedrooms  \\\n",
      "0       Appartement      Sousse            Hammam Sousse       82.0       1.0   \n",
      "1       Appartement     Manouba               La Manouba      141.0       3.0   \n",
      "2       Appartement      Ariana  Borj Louzir à La Soukra       76.0       NaN   \n",
      "3       Appartement     Manouba               La Manouba       68.0       NaN   \n",
      "4       Appartement      Ariana                La Soukra      125.0       2.0   \n",
      "...             ...         ...                      ...        ...       ...   \n",
      "11258  Appartements      Ariana              El Menzah 7        NaN       3.0   \n",
      "11259  Appartements      Nabeul                   Mrezga       66.0       1.0   \n",
      "11260  Appartements      Sousse           Sousse Jawhara      120.0       2.0   \n",
      "11261  Appartements      Sousse                 Kantaoui      100.0       3.0   \n",
      "11262  Appartements      Sousse                 Kantaoui      140.0       3.0   \n",
      "\n",
      "      Bathrooms Transaction Type     Price  \n",
      "0           1.0         À Vendre   328 000  \n",
      "1           2.0         À Vendre   360 000  \n",
      "2           NaN         À Vendre   197 600  \n",
      "3           NaN         À Vendre       NaN  \n",
      "4           2.0         À Vendre       NaN  \n",
      "...         ...              ...       ...  \n",
      "11258         1          À Louer     900.0  \n",
      "11259         1         À Vendre  250996.0  \n",
      "11260         1          À Louer    1100.0  \n",
      "11261         4          À Louer    1300.0  \n",
      "11262         2          À Louer    1500.0  \n",
      "\n",
      "[11263 rows x 8 columns]\n"
     ]
    }
   ],
   "source": [
    "import pandas as pd\n",
    "\n",
    "file_path = \"combined_data.csv\"\n",
    "data = pd.read_csv(file_path, encoding='utf-8')\n",
    "\n",
    "data['Area (m²)'] = data['Area (m²)'].replace(r'[^\\d.]+', '', regex=True)\n",
    "\n",
    "data['Area (m²)'] = pd.to_numeric(data['Area (m²)'], errors='coerce')\n",
    "print (data)\n",
    "data['Bathrooms'] = data['Bathrooms'].replace(r'[^\\d.]+', '', regex=True)\n",
    "\n",
    "data['Bathrooms'] = pd.to_numeric(data['Bathrooms'], errors='coerce')\n",
    "\n",
    "data['Bedrooms'] = data['Bedrooms'].replace(r'[^\\d.]+', '', regex=True)\n",
    "\n",
    "data['Bedrooms'] = pd.to_numeric(data['Bedrooms'], errors='coerce')"
   ]
  },
  {
   "cell_type": "code",
   "execution_count": 3,
   "id": "3502cc6c",
   "metadata": {},
   "outputs": [],
   "source": [
    "data.dropna(subset=['Price', 'Transaction Type'], inplace=True)\n"
   ]
  },
  {
   "cell_type": "code",
   "execution_count": null,
   "id": "9fcf492c",
   "metadata": {},
   "outputs": [
    {
     "name": "stdout",
     "output_type": "stream",
     "text": [
      "[0.0, 0.111, 1.0, 2.0, 3.0, 4.0, 5.0, 6.0, 7.0, 8.0, 9.268, 10.0, 11.0, 12.0, 15.0, 16.0, 18.0, 20.0, 22.0, 22.5, 24.0, 25.0, 26.0, 30.0, 32.0, 33.0, 34.0, 35.0, 36.0, 37.0, 38.0, 40.0, 41.0, 42.0, 43.0, 44.0, 45.0, 46.0, 47.0, 48.0, 49.0, 49.81, 50.0, 51.55, 52.0, 53.0, 54.0, 55.0, 55.5, 56.0, 57.0, 57.2, 58.0, 59.0, 60.0, 61.0, 61.5, 61.77, 62.0, 63.0, 64.0, 64.9, 65.0, 66.0, 67.0, 68.0, 69.0, 70.0, 71.0, 72.0, 73.0, 73.7, 74.0, 75.0, 75.4, 76.0, 77.0, 78.0, 79.0, 80.0, 81.0, 82.0, 83.0, 84.0, 85.0, 86.0, 86.68, 87.0, 88.0, 88.5, 89.0, 89.5, 90.0, 90.4, 90.9, 91.0, 92.0, 93.0, 94.0, 95.0, 96.0, 97.0, 98.0, 98.48, 99.0, 100.0, 100.5, 101.0, 101.3, 102.0, 103.0, 104.0, 104.97, 105.0, 106.0, 107.0, 108.0, 109.0, 110.0, 111.0, 112.0, 113.0, 114.0, 115.0, 116.0, 116.5, 116.84, 117.0, 117.76, 118.0, 119.0, 120.0, 121.0, 122.0, 123.0, 124.0, 125.0, 125.28, 126.0, 126.5, 127.0, 128.0, 129.0, 130.0, 131.0, 132.0, 132.5, 133.0, 134.0, 135.0, 136.0, 137.0, 137.11, 138.0, 139.0, 140.0, 141.0, 142.0, 143.0, 144.0, 145.0, 146.0, 147.0, 147.6, 148.0, 149.0, 150.0, 151.0, 152.0, 153.0, 154.0, 155.0, 156.0, 157.0, 158.0, 159.0, 159.75, 160.0, 161.0, 162.0, 163.0, 164.0, 164.5, 165.0, 166.0, 167.0, 168.0, 169.0, 170.0, 171.0, 172.0, 173.0, 174.0, 175.0, 176.0, 177.0, 178.0, 179.0, 180.0, 181.0, 181.31, 182.0, 183.0, 184.0, 185.0, 186.0, 187.0, 188.0, 189.0, 190.0, 191.0, 192.0, 193.0, 194.0, 195.0, 195.5, 196.0, 197.0, 198.0, 199.0, 200.0, 201.0, 202.0, 203.0, 204.0, 205.0, 206.0, 207.0, 208.0, 209.0, 210.0, 211.0, 212.0, 213.0, 214.0, 215.0, 216.0, 217.0, 218.0, 219.0, 220.0, 221.0, 222.0, 223.0, 224.0, 225.0, 226.0, 227.0, 228.0, 229.0, 230.0, 231.0, 232.0, 233.0, 234.0, 235.0, 236.0, 237.0, 238.0, 239.0, 240.0, 241.0, 242.0, 243.0, 244.0, 245.0, 246.0, 247.0, 248.0, 249.0, 250.0, 252.0, 253.0, 254.0, 255.0, 256.0, 257.0, 258.0, 259.0, 260.0, 261.0, 262.0, 263.0, 264.0, 265.0, 266.0, 267.0, 268.0, 269.0, 270.0, 272.0, 273.0, 274.0, 275.0, 276.0, 277.0, 278.0, 279.0, 280.0, 281.0, 282.0, 284.0, 285.0, 287.0, 288.0, 289.0, 290.0, 294.0, 295.0, 296.0, 297.0, 299.0, 300.0, 301.0, 302.0, 303.0, 304.0, 305.0, 306.0, 307.0, 308.0, 309.0, 310.0, 311.0, 312.0, 313.0, 314.0, 315.0, 316.0, 317.0, 318.0, 319.0, 320.0, 321.0, 322.0, 323.0, 324.0, 325.0, 326.0, 327.0, 328.0, 329.0, 330.0, 332.0, 333.0, 334.0, 335.0, 336.0, 337.0, 339.0, 340.0, 341.0, 344.0, 345.0, 346.0, 347.0, 348.0, 349.0, 350.0, 352.0, 354.0, 355.0, 356.0, 357.0, 358.0, 359.0, 360.0, 361.0, 362.0, 363.0, 364.0, 365.0, 368.0, 368.95, 370.0, 371.0, 372.0, 373.0, 374.0, 375.0, 376.0, 378.0, 380.0, 381.0, 383.0, 384.0, 385.0, 386.0, 387.0, 388.0, 390.0, 391.0, 392.0, 393.0, 394.0, 395.0, 396.0, 397.0, 398.0, 400.0, 401.0, 402.0, 403.0, 404.0, 405.0, 406.0, 407.0, 409.0, 410.0, 411.0, 412.0, 414.0, 415.0, 416.0, 417.0, 418.0, 420.0, 421.0, 422.0, 423.0, 424.0, 425.0, 426.0, 427.0, 428.0, 429.0, 430.0, 431.0, 432.0, 433.0, 434.0, 435.0, 436.0, 437.0, 440.0, 442.0, 443.0, 444.0, 445.0, 446.0, 447.0, 449.0, 450.0, 452.0, 453.0, 454.0, 455.0, 456.0, 457.0, 458.0, 459.0, 460.0, 461.0, 462.0, 463.0, 465.0, 466.0, 467.0, 468.0, 470.0, 471.0, 472.0, 473.0, 475.0, 477.0, 479.0, 480.0, 481.0, 483.0, 485.0, 486.0, 487.0, 488.0, 490.0, 492.0, 493.0, 494.0, 496.0, 498.0, 499.0, 500.0, 503.0, 504.0, 505.0, 506.0, 507.0, 508.0, 509.0, 510.0, 511.0, 512.0, 514.0, 516.0, 518.0, 519.0, 520.0, 522.0, 523.0, 524.0, 525.0, 526.0, 527.0, 528.0, 529.0, 530.0, 532.0, 533.0, 534.0, 536.0, 537.0, 538.0, 539.0, 540.0, 542.0, 543.0, 545.0, 546.0, 548.0, 550.0, 552.0, 555.0, 556.0, 560.0, 561.0, 562.0, 563.0, 564.0, 565.0, 566.0, 568.0, 570.0, 571.0, 572.0, 574.0, 575.0, 576.0, 577.0, 579.0, 580.0, 582.0, 585.0, 587.0, 588.0, 589.0, 590.0, 591.0, 594.0, 595.0, 597.0, 598.0, 599.0, 600.0, 603.0, 604.0, 605.0, 609.0, 610.0, 611.0, 615.0, 618.0, 619.0, 620.0, 621.6, 622.0, 624.0, 627.0, 629.0, 630.0, 633.0, 634.0, 636.0, 638.0, 639.0, 640.0, 643.0, 645.0, 646.0, 647.0, 648.0, 649.0, 650.0, 652.0, 654.0, 657.0, 660.0, 662.0, 667.0, 670.0, 671.0, 672.0, 675.0, 679.0, 680.0, 681.0, 685.0, 688.0, 690.0, 700.0, 702.0, 704.0, 705.0, 720.0, 722.0, 726.0, 730.0, 735.0, 736.0, 740.0, 743.0, 746.0, 750.0, 756.0, 758.0, 760.0, 767.0, 770.0, 772.0, 777.0, 778.0, 779.0, 782.0, 785.0, 792.0, 800.0, 802.0, 807.0, 812.0, 816.0, 820.0, 826.0, 829.0, 830.0, 831.0, 834.0, 840.0, 845.0, 850.0, 859.0, 864.0, 866.0, 868.0, 870.0, 873.0, 876.0, 878.0, 879.0, 880.0, 888.0, 890.0, 900.0, 903.0, 905.0, 910.0, 912.0, 916.0, 920.0, 930.0, 950.0, 953.0, 958.0, 966.0, 968.0, 970.0, 972.0, 980.0, 981.0, 998.0, 999.0, 1000.0, 1001.0, 1012.0, 1014.0, 1016.0, 1020.0, 1031.0, 1033.0, 1040.0, 1050.0, 1053.0, 1057.0, 1059.0, 1074.0, 1080.0, 1085.0, 1095.0, 1100.0, 1105.0, 1111.0, 1129.0, 1132.0, 1133.0, 1143.0, 1150.0, 1180.0, 1190.0, 1200.0, 1220.0, 1226.0, 1234.0, 1250.0, 1276.0, 1280.0, 1300.0, 1301.0, 1344.0, 1347.0, 1350.0, 1400.0, 1405.0, 1420.0, 1421.0, 1440.0, 1455.0, 1472.0, 1474.0, 1500.0, 1522.0, 1539.0, 1560.0, 1564.0, 1587.0, 1606.0, 1624.0, 1649.0, 1654.0, 1660.0, 1680.0, 1700.0, 1776.0, 1796.0, 1800.0, 1900.0, 1918.0, 1975.0, 2000.0, 2020.0, 2048.0, 2100.0, 2200.0, 2300.0, 2314.0, 2317.0, 2340.0, 2380.0, 2500.0, 2899.0, 3000.0, 3080.0, 3300.0, 3500.0, 3600.0, 4000.0, 4080.0, 4106.0, 4500.0, 4600.0, 4800.0, 5000.0, 5500.0, 6741.0, 7000.0, 7100.0, 7800.0, 8900.0, 10000.0, 12000.0, 14961.0, 19500.0, 20000.0, 55555.0, 88888.0, 90000.0, 100000.0, 120000.0, 250027.0, 320000.0, 675000.0, 845000.0, 1111111.0, 20420385.0, 24012364.0, 50461175.0, 57265878.0, 58064739.0, 98462133.0, 98823753.0, 111111111111.0]\n"
     ]
    }
   ],
   "source": [
    "valeurs_uniques = sorted(data['Area (m²)'].dropna().unique())\n",
    "\n",
    "print(valeurs_uniques)"
   ]
  },
  {
   "cell_type": "code",
   "execution_count": 5,
   "id": "ce8b96b7",
   "metadata": {},
   "outputs": [],
   "source": [
    "data.to_csv('test.csv', index=False)"
   ]
  },
  {
   "cell_type": "code",
   "execution_count": 8,
   "id": "84ef7c98",
   "metadata": {},
   "outputs": [],
   "source": [
    "data = data[~((data['Area (m²)'] < 10) | (data['Area (m²)'] > 10000))]  "
   ]
  },
  {
   "cell_type": "code",
   "execution_count": 9,
   "id": "d9b3b1eb",
   "metadata": {},
   "outputs": [
    {
     "name": "stdout",
     "output_type": "stream",
     "text": [
      "      Property Type Governorate                 Location  Area (m²)  Bedrooms  \\\n",
      "0       Appartement      Sousse            Hammam Sousse       82.0       1.0   \n",
      "1       Appartement     Manouba               La Manouba      141.0       3.0   \n",
      "2       Appartement      Ariana  Borj Louzir à La Soukra       76.0       NaN   \n",
      "5       Appartement      Sousse            Hammam Sousse      102.0       3.0   \n",
      "6       Appartement      Sousse            Hammam Sousse      190.0       NaN   \n",
      "...             ...         ...                      ...        ...       ...   \n",
      "11258  Appartements      Ariana              El Menzah 7        NaN       3.0   \n",
      "11259  Appartements      Nabeul                   Mrezga       66.0       1.0   \n",
      "11260  Appartements      Sousse           Sousse Jawhara      120.0       2.0   \n",
      "11261  Appartements      Sousse                 Kantaoui      100.0       3.0   \n",
      "11262  Appartements      Sousse                 Kantaoui      140.0       3.0   \n",
      "\n",
      "       Bathrooms Transaction Type     Price  \n",
      "0            1.0         À Vendre   328 000  \n",
      "1            2.0         À Vendre   360 000  \n",
      "2            NaN         À Vendre   197 600  \n",
      "5            2.0         À Vendre   195 000  \n",
      "6            NaN         À Vendre   320 000  \n",
      "...          ...              ...       ...  \n",
      "11258        1.0          À Louer     900.0  \n",
      "11259        1.0         À Vendre  250996.0  \n",
      "11260        1.0          À Louer    1100.0  \n",
      "11261        4.0          À Louer    1300.0  \n",
      "11262        2.0          À Louer    1500.0  \n",
      "\n",
      "[10450 rows x 8 columns]\n"
     ]
    }
   ],
   "source": [
    "print (data)"
   ]
  },
  {
   "cell_type": "code",
   "execution_count": 10,
   "id": "b23283a8",
   "metadata": {},
   "outputs": [
    {
     "name": "stdout",
     "output_type": "stream",
     "text": [
      "[10.0, 11.0, 12.0, 15.0, 16.0, 18.0, 20.0, 22.0, 22.5, 24.0, 25.0, 26.0, 30.0, 32.0, 33.0, 34.0, 35.0, 36.0, 37.0, 38.0, 40.0, 41.0, 42.0, 43.0, 44.0, 45.0, 46.0, 47.0, 48.0, 49.0, 49.81, 50.0, 51.55, 52.0, 53.0, 54.0, 55.0, 55.5, 56.0, 57.0, 57.2, 58.0, 59.0, 60.0, 61.0, 61.5, 61.77, 62.0, 63.0, 64.0, 64.9, 65.0, 66.0, 67.0, 68.0, 69.0, 70.0, 71.0, 72.0, 73.0, 73.7, 74.0, 75.0, 75.4, 76.0, 77.0, 78.0, 79.0, 80.0, 81.0, 82.0, 83.0, 84.0, 85.0, 86.0, 86.68, 87.0, 88.0, 88.5, 89.0, 89.5, 90.0, 90.4, 90.9, 91.0, 92.0, 93.0, 94.0, 95.0, 96.0, 97.0, 98.0, 98.48, 99.0, 100.0, 100.5, 101.0, 101.3, 102.0, 103.0, 104.0, 104.97, 105.0, 106.0, 107.0, 108.0, 109.0, 110.0, 111.0, 112.0, 113.0, 114.0, 115.0, 116.0, 116.5, 116.84, 117.0, 117.76, 118.0, 119.0, 120.0, 121.0, 122.0, 123.0, 124.0, 125.0, 125.28, 126.0, 126.5, 127.0, 128.0, 129.0, 130.0, 131.0, 132.0, 132.5, 133.0, 134.0, 135.0, 136.0, 137.0, 137.11, 138.0, 139.0, 140.0, 141.0, 142.0, 143.0, 144.0, 145.0, 146.0, 147.0, 147.6, 148.0, 149.0, 150.0, 151.0, 152.0, 153.0, 154.0, 155.0, 156.0, 157.0, 158.0, 159.0, 159.75, 160.0, 161.0, 162.0, 163.0, 164.0, 164.5, 165.0, 166.0, 167.0, 168.0, 169.0, 170.0, 171.0, 172.0, 173.0, 174.0, 175.0, 176.0, 177.0, 178.0, 179.0, 180.0, 181.0, 181.31, 182.0, 183.0, 184.0, 185.0, 186.0, 187.0, 188.0, 189.0, 190.0, 191.0, 192.0, 193.0, 194.0, 195.0, 195.5, 196.0, 197.0, 198.0, 199.0, 200.0, 201.0, 202.0, 203.0, 204.0, 205.0, 206.0, 207.0, 208.0, 209.0, 210.0, 211.0, 212.0, 213.0, 214.0, 215.0, 216.0, 217.0, 218.0, 219.0, 220.0, 221.0, 222.0, 223.0, 224.0, 225.0, 226.0, 227.0, 228.0, 229.0, 230.0, 231.0, 232.0, 233.0, 234.0, 235.0, 236.0, 237.0, 238.0, 239.0, 240.0, 241.0, 242.0, 243.0, 244.0, 245.0, 246.0, 247.0, 248.0, 249.0, 250.0, 252.0, 253.0, 254.0, 255.0, 256.0, 257.0, 258.0, 259.0, 260.0, 261.0, 262.0, 263.0, 264.0, 265.0, 266.0, 267.0, 268.0, 269.0, 270.0, 272.0, 273.0, 274.0, 275.0, 276.0, 277.0, 278.0, 279.0, 280.0, 281.0, 282.0, 284.0, 285.0, 287.0, 288.0, 289.0, 290.0, 294.0, 295.0, 296.0, 297.0, 299.0, 300.0, 301.0, 302.0, 303.0, 304.0, 305.0, 306.0, 307.0, 308.0, 309.0, 310.0, 311.0, 312.0, 313.0, 314.0, 315.0, 316.0, 317.0, 318.0, 319.0, 320.0, 321.0, 322.0, 323.0, 324.0, 325.0, 326.0, 327.0, 328.0, 329.0, 330.0, 332.0, 333.0, 334.0, 335.0, 336.0, 337.0, 339.0, 340.0, 341.0, 344.0, 345.0, 346.0, 347.0, 348.0, 349.0, 350.0, 352.0, 354.0, 355.0, 356.0, 357.0, 358.0, 359.0, 360.0, 361.0, 362.0, 363.0, 364.0, 365.0, 368.0, 368.95, 370.0, 371.0, 372.0, 373.0, 374.0, 375.0, 376.0, 378.0, 380.0, 381.0, 383.0, 384.0, 385.0, 386.0, 387.0, 388.0, 390.0, 391.0, 392.0, 393.0, 394.0, 395.0, 396.0, 397.0, 398.0, 400.0, 401.0, 402.0, 403.0, 404.0, 405.0, 406.0, 407.0, 409.0, 410.0, 411.0, 412.0, 414.0, 415.0, 416.0, 417.0, 418.0, 420.0, 421.0, 422.0, 423.0, 424.0, 425.0, 426.0, 427.0, 428.0, 429.0, 430.0, 431.0, 432.0, 433.0, 434.0, 435.0, 436.0, 437.0, 440.0, 442.0, 443.0, 444.0, 445.0, 446.0, 447.0, 449.0, 450.0, 452.0, 453.0, 454.0, 455.0, 456.0, 457.0, 458.0, 459.0, 460.0, 461.0, 462.0, 463.0, 465.0, 466.0, 467.0, 468.0, 470.0, 471.0, 472.0, 473.0, 475.0, 477.0, 479.0, 480.0, 481.0, 483.0, 485.0, 486.0, 487.0, 488.0, 490.0, 492.0, 493.0, 494.0, 496.0, 498.0, 499.0, 500.0, 503.0, 504.0, 505.0, 506.0, 507.0, 508.0, 509.0, 510.0, 511.0, 512.0, 514.0, 516.0, 518.0, 519.0, 520.0, 522.0, 523.0, 524.0, 525.0, 526.0, 527.0, 528.0, 529.0, 530.0, 532.0, 533.0, 534.0, 536.0, 537.0, 538.0, 539.0, 540.0, 542.0, 543.0, 545.0, 546.0, 548.0, 550.0, 552.0, 555.0, 556.0, 560.0, 561.0, 562.0, 563.0, 564.0, 565.0, 566.0, 568.0, 570.0, 571.0, 572.0, 574.0, 575.0, 576.0, 577.0, 579.0, 580.0, 582.0, 585.0, 587.0, 588.0, 589.0, 590.0, 591.0, 594.0, 595.0, 597.0, 598.0, 599.0, 600.0, 603.0, 604.0, 605.0, 609.0, 610.0, 611.0, 615.0, 618.0, 619.0, 620.0, 621.6, 622.0, 624.0, 627.0, 629.0, 630.0, 633.0, 634.0, 636.0, 638.0, 639.0, 640.0, 643.0, 645.0, 646.0, 647.0, 648.0, 649.0, 650.0, 652.0, 654.0, 657.0, 660.0, 662.0, 667.0, 670.0, 671.0, 672.0, 675.0, 679.0, 680.0, 681.0, 685.0, 688.0, 690.0, 700.0, 702.0, 704.0, 705.0, 720.0, 722.0, 726.0, 730.0, 735.0, 736.0, 740.0, 743.0, 746.0, 750.0, 756.0, 758.0, 760.0, 767.0, 770.0, 772.0, 777.0, 778.0, 779.0, 782.0, 785.0, 792.0, 800.0, 802.0, 807.0, 812.0, 816.0, 820.0, 826.0, 829.0, 830.0, 831.0, 834.0, 840.0, 845.0, 850.0, 859.0, 864.0, 866.0, 868.0, 870.0, 873.0, 876.0, 878.0, 879.0, 880.0, 888.0, 890.0, 900.0, 903.0, 905.0, 910.0, 912.0, 916.0, 920.0, 930.0, 950.0, 953.0, 958.0, 966.0, 968.0, 970.0, 972.0, 980.0, 981.0, 998.0, 999.0, 1000.0, 1001.0, 1012.0, 1014.0, 1016.0, 1020.0, 1031.0, 1033.0, 1040.0, 1050.0, 1053.0, 1057.0, 1059.0, 1074.0, 1080.0, 1085.0, 1095.0, 1100.0, 1105.0, 1111.0, 1129.0, 1132.0, 1133.0, 1143.0, 1150.0, 1180.0, 1190.0, 1200.0, 1220.0, 1226.0, 1234.0, 1250.0, 1276.0, 1280.0, 1300.0, 1301.0, 1344.0, 1347.0, 1350.0, 1400.0, 1405.0, 1420.0, 1421.0, 1440.0, 1455.0, 1472.0, 1474.0, 1500.0, 1522.0, 1539.0, 1560.0, 1564.0, 1587.0, 1606.0, 1624.0, 1649.0, 1654.0, 1660.0, 1680.0, 1700.0, 1776.0, 1796.0, 1800.0, 1900.0, 1918.0, 1975.0, 2000.0, 2020.0, 2048.0, 2100.0, 2200.0, 2300.0, 2314.0, 2317.0, 2340.0, 2380.0, 2500.0, 2899.0, 3000.0, 3080.0, 3300.0, 3500.0, 3600.0, 4000.0, 4080.0, 4106.0, 4500.0, 4600.0, 4800.0, 5000.0, 5500.0, 6741.0, 7000.0, 7100.0, 7800.0, 8900.0, 10000.0]\n"
     ]
    }
   ],
   "source": [
    "valeurs_uniques = sorted(data['Area (m²)'].dropna().unique())\n",
    "print(valeurs_uniques)\n"
   ]
  },
  {
   "cell_type": "code",
   "execution_count": null,
   "id": "6b45287e",
   "metadata": {},
   "outputs": [
    {
     "name": "stdout",
     "output_type": "stream",
     "text": [
      "[-7.0, -5.0, -4.0, -3.0, -2.0, -1.0, 0.0, 0.1, 1.0, 2.0, 3.0, 4.0, 5.0, 6.0, 7.0, 8.0, 9.0, 10.0, 11.0, 12.0, 13.0, 14.0, 15.0, 16.0, 18.0, 19.0, 20.0, 21.0, 27.0, 30.0, 40.0, 49.0, 100.0, 180.0, 220.0, 270.0, 335.0, 400.0, 870.0, 2500.0, 5000.0, 123123.0, 24061003.0]\n"
     ]
    }
   ],
   "source": [
    " \n",
    "valeurs_uniques = sorted(data['Bedrooms'].dropna().unique())\n",
    "print(valeurs_uniques)\n"
   ]
  },
  {
   "cell_type": "code",
   "execution_count": 16,
   "id": "84f4cf1e",
   "metadata": {},
   "outputs": [],
   "source": [
    "data = data[~((data['Bedrooms'] <1 ) | (data['Bedrooms'] > 20))]\n"
   ]
  },
  {
   "cell_type": "code",
   "execution_count": null,
   "id": "6f5236ed",
   "metadata": {},
   "outputs": [
    {
     "name": "stdout",
     "output_type": "stream",
     "text": [
      "[1.0, 2.0, 3.0, 4.0, 5.0, 6.0, 7.0, 8.0, 9.0, 10.0, 11.0, 12.0, 13.0, 14.0, 15.0, 16.0, 18.0, 19.0, 20.0]\n"
     ]
    }
   ],
   "source": [
    "valeurs_uniques = sorted(data['Bedrooms'].dropna().unique())\n",
    "print(valeurs_uniques)\n"
   ]
  },
  {
   "cell_type": "code",
   "execution_count": 18,
   "id": "dc410fb5",
   "metadata": {},
   "outputs": [
    {
     "name": "stdout",
     "output_type": "stream",
     "text": [
      "[0.0, 1.0, 1.5, 2.0, 2.5, 3.0, 4.0, 5.0, 6.0, 7.0, 8.0, 9.0, 10.0, 11.0, 12.0, 16.0, 130.0, 150.0, 280.0, 360.0, 410.0, 1150.0]\n"
     ]
    }
   ],
   "source": [
    "#Bathrooms \n",
    "valeurs_uniques = sorted(data['Bathrooms'].dropna().unique())\n",
    "print(valeurs_uniques)\n"
   ]
  },
  {
   "cell_type": "code",
   "execution_count": 21,
   "id": "63968236",
   "metadata": {},
   "outputs": [],
   "source": [
    "data = data[~((data['Bathrooms'] < 1) | (data['Bathrooms'] > 20) | (data['Bathrooms'] % 1 == 0.5))]\n"
   ]
  },
  {
   "cell_type": "code",
   "execution_count": 22,
   "id": "b409362d",
   "metadata": {},
   "outputs": [
    {
     "name": "stdout",
     "output_type": "stream",
     "text": [
      "[1.0, 2.0, 3.0, 4.0, 5.0, 6.0, 7.0, 8.0, 9.0, 10.0, 11.0, 12.0, 16.0]\n"
     ]
    }
   ],
   "source": [
    "valeurs_uniques = sorted(data['Bathrooms'].dropna().unique())\n",
    "print(valeurs_uniques)\n"
   ]
  },
  {
   "cell_type": "code",
   "execution_count": 26,
   "id": "bedfbb83",
   "metadata": {},
   "outputs": [],
   "source": [
    "data['Area (m²)'].fillna(data['Area (m²)'].median(), inplace=True)\n",
    "data['Bedrooms'].fillna(data['Bedrooms'].median(), inplace=True)\n",
    "data['Bathrooms'].fillna(data['Bathrooms'].median(), inplace=True)"
   ]
  },
  {
   "cell_type": "code",
   "execution_count": 27,
   "id": "4f9123d6",
   "metadata": {},
   "outputs": [
    {
     "name": "stdout",
     "output_type": "stream",
     "text": [
      "      Property Type Governorate                 Location  Area (m²)  Bedrooms  \\\n",
      "0       Appartement      Sousse            Hammam Sousse       82.0       1.0   \n",
      "1       Appartement     Manouba               La Manouba      141.0       3.0   \n",
      "2       Appartement      Ariana  Borj Louzir à La Soukra       76.0       3.0   \n",
      "5       Appartement      Sousse            Hammam Sousse      102.0       3.0   \n",
      "6       Appartement      Sousse            Hammam Sousse      190.0       3.0   \n",
      "...             ...         ...                      ...        ...       ...   \n",
      "11258  Appartements      Ariana              El Menzah 7      142.0       3.0   \n",
      "11259  Appartements      Nabeul                   Mrezga       66.0       1.0   \n",
      "11260  Appartements      Sousse           Sousse Jawhara      120.0       2.0   \n",
      "11261  Appartements      Sousse                 Kantaoui      100.0       3.0   \n",
      "11262  Appartements      Sousse                 Kantaoui      140.0       3.0   \n",
      "\n",
      "       Bathrooms Transaction Type     Price  \n",
      "0            1.0         À Vendre   328 000  \n",
      "1            2.0         À Vendre   360 000  \n",
      "2            1.0         À Vendre   197 600  \n",
      "5            2.0         À Vendre   195 000  \n",
      "6            1.0         À Vendre   320 000  \n",
      "...          ...              ...       ...  \n",
      "11258        1.0          À Louer     900.0  \n",
      "11259        1.0         À Vendre  250996.0  \n",
      "11260        1.0          À Louer    1100.0  \n",
      "11261        4.0          À Louer    1300.0  \n",
      "11262        2.0          À Louer    1500.0  \n",
      "\n",
      "[9873 rows x 8 columns]\n"
     ]
    }
   ],
   "source": [
    "print(data)"
   ]
  },
  {
   "cell_type": "code",
   "execution_count": 28,
   "id": "4ad731d8",
   "metadata": {},
   "outputs": [
    {
     "name": "stdout",
     "output_type": "stream",
     "text": [
      "les valeurs manquantes\n",
      "Property Type       0\n",
      "Governorate         0\n",
      "Location            0\n",
      "Area (m²)           0\n",
      "Bedrooms            0\n",
      "Bathrooms           0\n",
      "Transaction Type    0\n",
      "Price               0\n",
      "dtype: int64\n"
     ]
    }
   ],
   "source": [
    "print('les valeurs manquantes')\n",
    "print(data.isnull().sum())  \n"
   ]
  },
  {
   "cell_type": "code",
   "execution_count": null,
   "id": "87d35445",
   "metadata": {},
   "outputs": [
    {
     "name": "stdout",
     "output_type": "stream",
     "text": [
      "Types de données des colonnes :\n",
      "Property Type        object\n",
      "Governorate          object\n",
      "Location             object\n",
      "Area (m²)           float64\n",
      "Bedrooms            float64\n",
      "Bathrooms           float64\n",
      "Transaction Type     object\n",
      "Price                object\n",
      "dtype: object\n"
     ]
    }
   ],
   "source": [
    "print(\"Types de données des colonnes :\")\n",
    "print(data.dtypes)"
   ]
  },
  {
   "cell_type": "code",
   "execution_count": null,
   "id": "05614a30",
   "metadata": {},
   "outputs": [],
   "source": [
    "data['Price'] = data['Price'].replace(r'[^\\d.]+', '', regex=True)\n",
    "data['Price'] = pd.to_numeric(data['Price'], errors='coerce')\n"
   ]
  },
  {
   "cell_type": "code",
   "execution_count": 31,
   "id": "afee0ea7",
   "metadata": {},
   "outputs": [
    {
     "name": "stdout",
     "output_type": "stream",
     "text": [
      "Types de données des colonnes :\n",
      "Property Type        object\n",
      "Governorate          object\n",
      "Location             object\n",
      "Area (m²)           float64\n",
      "Bedrooms            float64\n",
      "Bathrooms           float64\n",
      "Transaction Type     object\n",
      "Price               float64\n",
      "dtype: object\n"
     ]
    }
   ],
   "source": [
    "print(\"Types de données des colonnes :\")\n",
    "print(data.dtypes)"
   ]
  },
  {
   "cell_type": "code",
   "execution_count": 32,
   "id": "76104eae",
   "metadata": {},
   "outputs": [
    {
     "name": "stdout",
     "output_type": "stream",
     "text": [
      "      Property Type Governorate                 Location  Area (m²)  Bedrooms  \\\n",
      "0       Appartement      Sousse            Hammam Sousse       82.0       1.0   \n",
      "1       Appartement     Manouba               La Manouba      141.0       3.0   \n",
      "2       Appartement      Ariana  Borj Louzir à La Soukra       76.0       3.0   \n",
      "5       Appartement      Sousse            Hammam Sousse      102.0       3.0   \n",
      "6       Appartement      Sousse            Hammam Sousse      190.0       3.0   \n",
      "...             ...         ...                      ...        ...       ...   \n",
      "11258  Appartements      Ariana              El Menzah 7      142.0       3.0   \n",
      "11259  Appartements      Nabeul                   Mrezga       66.0       1.0   \n",
      "11260  Appartements      Sousse           Sousse Jawhara      120.0       2.0   \n",
      "11261  Appartements      Sousse                 Kantaoui      100.0       3.0   \n",
      "11262  Appartements      Sousse                 Kantaoui      140.0       3.0   \n",
      "\n",
      "       Bathrooms Transaction Type     Price  \n",
      "0            1.0         À Vendre  328000.0  \n",
      "1            2.0         À Vendre  360000.0  \n",
      "2            1.0         À Vendre  197600.0  \n",
      "5            2.0         À Vendre  195000.0  \n",
      "6            1.0         À Vendre  320000.0  \n",
      "...          ...              ...       ...  \n",
      "11258        1.0          À Louer     900.0  \n",
      "11259        1.0         À Vendre  250996.0  \n",
      "11260        1.0          À Louer    1100.0  \n",
      "11261        4.0          À Louer    1300.0  \n",
      "11262        2.0          À Louer    1500.0  \n",
      "\n",
      "[9873 rows x 8 columns]\n"
     ]
    }
   ],
   "source": [
    "print(data)"
   ]
  },
  {
   "cell_type": "code",
   "execution_count": 33,
   "id": "2d4f63b4",
   "metadata": {},
   "outputs": [
    {
     "name": "stdout",
     "output_type": "stream",
     "text": [
      "['À Vendre' 'À Louer' 'sale' 'rent']\n"
     ]
    }
   ],
   "source": [
    "print(data['Transaction Type'].unique())"
   ]
  },
  {
   "cell_type": "code",
   "execution_count": null,
   "id": "557ac96e",
   "metadata": {},
   "outputs": [],
   "source": [
    "data['Transaction Type'] = data['Transaction Type'].replace({\n",
    "    'À Vendre': 'sale',\n",
    "    'À Louer': 'rent'\n",
    "})"
   ]
  },
  {
   "cell_type": "code",
   "execution_count": 35,
   "id": "c8afcb21",
   "metadata": {},
   "outputs": [
    {
     "name": "stdout",
     "output_type": "stream",
     "text": [
      "['sale' 'rent']\n"
     ]
    }
   ],
   "source": [
    "print(data['Transaction Type'].unique())"
   ]
  },
  {
   "cell_type": "code",
   "execution_count": null,
   "id": "584ec210",
   "metadata": {},
   "outputs": [],
   "source": [
    "data['Transaction Type'] = data['Transaction Type'].astype('category')"
   ]
  },
  {
   "cell_type": "code",
   "execution_count": null,
   "id": "89c2039d",
   "metadata": {},
   "outputs": [
    {
     "name": "stdout",
     "output_type": "stream",
     "text": [
      "category\n",
      "['sale', 'rent']\n",
      "Categories (2, object): ['rent', 'sale']\n"
     ]
    }
   ],
   "source": [
    "print(data['Transaction Type'].dtypes)  \n",
    "print(data['Transaction Type'].unique())  "
   ]
  },
  {
   "cell_type": "code",
   "execution_count": 38,
   "id": "a8a8f8a4",
   "metadata": {},
   "outputs": [
    {
     "name": "stdout",
     "output_type": "stream",
     "text": [
      "Types de données des colonnes :\n",
      "Property Type         object\n",
      "Governorate           object\n",
      "Location              object\n",
      "Area (m²)            float64\n",
      "Bedrooms             float64\n",
      "Bathrooms            float64\n",
      "Transaction Type    category\n",
      "Price                float64\n",
      "dtype: object\n"
     ]
    }
   ],
   "source": [
    "print(\"Types de données des colonnes :\")\n",
    "print(data.dtypes)"
   ]
  },
  {
   "cell_type": "code",
   "execution_count": 39,
   "id": "4251b357",
   "metadata": {},
   "outputs": [
    {
     "name": "stdout",
     "output_type": "stream",
     "text": [
      "['Appartement' 'Villa' 'Maison' 'Maisons et Villas' 'Appartements']\n"
     ]
    }
   ],
   "source": [
    "print(data['Property Type'].unique())"
   ]
  },
  {
   "cell_type": "code",
   "execution_count": null,
   "id": "f135d67f",
   "metadata": {},
   "outputs": [],
   "source": [
    "\n",
    "data['Property Type'] = data['Property Type'].replace({\n",
    "    'Maisons et Villas': 'Maison/Villa',  \n",
    "    'Maison': 'Maison/Villa',            \n",
    "    'Villa': 'Maison/Villa',            \n",
    "    'Appartements': 'Appartement'         \n",
    "})"
   ]
  },
  {
   "cell_type": "code",
   "execution_count": 41,
   "id": "0e504e41",
   "metadata": {},
   "outputs": [
    {
     "name": "stdout",
     "output_type": "stream",
     "text": [
      "      Property Type Governorate                 Location  Area (m²)  Bedrooms  \\\n",
      "0       Appartement      Sousse            Hammam Sousse       82.0       1.0   \n",
      "1       Appartement     Manouba               La Manouba      141.0       3.0   \n",
      "2       Appartement      Ariana  Borj Louzir à La Soukra       76.0       3.0   \n",
      "5       Appartement      Sousse            Hammam Sousse      102.0       3.0   \n",
      "6       Appartement      Sousse            Hammam Sousse      190.0       3.0   \n",
      "...             ...         ...                      ...        ...       ...   \n",
      "11258   Appartement      Ariana              El Menzah 7      142.0       3.0   \n",
      "11259   Appartement      Nabeul                   Mrezga       66.0       1.0   \n",
      "11260   Appartement      Sousse           Sousse Jawhara      120.0       2.0   \n",
      "11261   Appartement      Sousse                 Kantaoui      100.0       3.0   \n",
      "11262   Appartement      Sousse                 Kantaoui      140.0       3.0   \n",
      "\n",
      "       Bathrooms Transaction Type     Price  \n",
      "0            1.0             sale  328000.0  \n",
      "1            2.0             sale  360000.0  \n",
      "2            1.0             sale  197600.0  \n",
      "5            2.0             sale  195000.0  \n",
      "6            1.0             sale  320000.0  \n",
      "...          ...              ...       ...  \n",
      "11258        1.0             rent     900.0  \n",
      "11259        1.0             sale  250996.0  \n",
      "11260        1.0             rent    1100.0  \n",
      "11261        4.0             rent    1300.0  \n",
      "11262        2.0             rent    1500.0  \n",
      "\n",
      "[9873 rows x 8 columns]\n"
     ]
    }
   ],
   "source": [
    "print (data)"
   ]
  },
  {
   "cell_type": "code",
   "execution_count": 42,
   "id": "bafef58f",
   "metadata": {},
   "outputs": [
    {
     "name": "stdout",
     "output_type": "stream",
     "text": [
      "['Appartement' 'Maison/Villa']\n"
     ]
    }
   ],
   "source": [
    "print(data['Property Type'].unique())"
   ]
  },
  {
   "cell_type": "code",
   "execution_count": 43,
   "id": "df15c8d1",
   "metadata": {},
   "outputs": [
    {
     "name": "stdout",
     "output_type": "stream",
     "text": [
      "['Appartement', 'Maison/Villa']\n",
      "Categories (2, object): ['Appartement', 'Maison/Villa']\n",
      "Types de données des colonnes :\n",
      "Property Type       category\n",
      "Governorate           object\n",
      "Location              object\n",
      "Area (m²)            float64\n",
      "Bedrooms             float64\n",
      "Bathrooms            float64\n",
      "Transaction Type    category\n",
      "Price                float64\n",
      "dtype: object\n"
     ]
    }
   ],
   "source": [
    "data['Property Type'] = data['Property Type'].astype('category')\n",
    "print(data['Property Type'].unique())\n",
    "print(\"Types de données des colonnes :\")\n",
    "print(data.dtypes)"
   ]
  },
  {
   "cell_type": "code",
   "execution_count": 44,
   "id": "cb378093",
   "metadata": {},
   "outputs": [
    {
     "name": "stdout",
     "output_type": "stream",
     "text": [
      "Nombre de doublons : 1220\n"
     ]
    }
   ],
   "source": [
    "num_duplicates = data.duplicated().sum()\n",
    "print(f\"Nombre de doublons : {num_duplicates}\")\n"
   ]
  },
  {
   "cell_type": "code",
   "execution_count": 45,
   "id": "524a7f28",
   "metadata": {},
   "outputs": [],
   "source": [
    "data = data.drop_duplicates()\n"
   ]
  },
  {
   "cell_type": "code",
   "execution_count": 46,
   "id": "fde17778",
   "metadata": {},
   "outputs": [
    {
     "name": "stdout",
     "output_type": "stream",
     "text": [
      "Nombre de doublons : 0\n"
     ]
    }
   ],
   "source": [
    "num_duplicates = data.duplicated().sum()\n",
    "print(f\"Nombre de doublons : {num_duplicates}\")"
   ]
  },
  {
   "cell_type": "code",
   "execution_count": 47,
   "id": "530e7aa4",
   "metadata": {},
   "outputs": [],
   "source": [
    "data.to_csv('testtest.csv', index=False)"
   ]
  },
  {
   "cell_type": "code",
   "execution_count": 48,
   "id": "ab145271",
   "metadata": {},
   "outputs": [
    {
     "name": "stdout",
     "output_type": "stream",
     "text": [
      "[0.0, 0.1, 0.111, 1.0, 1.5, 1.85, 2.0, 2.3, 2.5, 2.8, 3.0, 4.0, 5.0, 7.0, 8.0, 9.0, 10.0, 11.0, 12.0, 14.0, 25.0, 30.0, 37.0, 38.0, 40.0, 45.0, 47.0, 50.0, 52.0, 55.0, 60.0, 65.0, 67.0, 68.0, 70.0, 75.0, 79.0, 80.0, 85.0, 88.0, 89.0, 90.0, 95.0, 96.0, 99.0, 100.0, 105.0, 109.0, 110.0, 111.0, 115.0, 119.0, 120.0, 123.0, 125.0, 126.0, 128.0, 130.0, 135.0, 140.0, 145.0, 147.0, 149.0, 150.0, 155.0, 158.0, 160.0, 162.0, 170.0, 175.0, 178.0, 179.0, 180.0, 185.0, 190.0, 195.0, 199.0, 200.0, 208.0, 210.0, 215.0, 220.0, 222.0, 224.0, 225.0, 229.0, 230.0, 235.0, 240.0, 245.0, 248.0, 250.0, 260.0, 263.0, 264.0, 265.0, 270.0, 275.0, 279.0, 280.0, 285.0, 290.0, 300.0, 310.0, 319.0, 320.0, 325.0, 330.0, 335.0, 340.0, 347.0, 348.0, 349.0, 350.0, 360.0, 365.0, 370.0, 375.0, 380.0, 385.0, 388.0, 390.0, 395.0, 398.0, 399.0, 400.0, 410.0, 420.0, 429.0, 430.0, 440.0, 449.0, 450.0, 460.0, 470.0, 480.0, 490.0, 498.0, 499.0, 500.0, 520.0, 525.0, 530.0, 540.0, 547.0, 548.0, 549.0, 550.0, 560.0, 570.0, 579.0, 580.0, 590.0, 599.0, 600.0, 620.0, 625.0, 630.0, 640.0, 649.0, 650.0, 651.0, 658.0, 660.0, 670.0, 680.0, 690.0, 698.0, 699.0, 700.0, 720.0, 730.0, 735.0, 746.0, 747.0, 749.0, 750.0, 760.0, 770.0, 780.0, 790.0, 795.0, 799.0, 800.0, 820.0, 825.0, 830.0, 848.0, 850.0, 865.0, 870.0, 875.0, 880.0, 885.0, 890.0, 892.0, 897.0, 898.0, 899.0, 900.0, 910.0, 920.0, 929.0, 930.0, 940.0, 945.0, 949.0, 950.0, 970.0, 980.0, 990.0, 996.0, 998.0, 999.0, 1000.0, 1001.0, 1002.0, 1049.0, 1050.0, 1060.0, 1070.0, 1080.0, 1096.0, 1098.0, 1099.0, 1100.0, 1102.0, 1111.0, 1148.0, 1150.0, 1151.0, 1170.0, 1180.0, 1190.0, 1198.0, 1199.0, 1200.0, 1232.0, 1234.0, 1248.0, 1250.0, 1270.0, 1290.0, 1298.0, 1299.0, 1300.0, 1320.0, 1349.0, 1350.0, 1352.0, 1380.0, 1390.0, 1397.0, 1398.0, 1399.0, 1400.0, 1450.0, 1475.0, 1480.0, 1498.0, 1499.0, 1500.0, 1549.0, 1550.0, 1564.0, 1580.0, 1598.0, 1599.0, 1600.0, 1620.0, 1648.0, 1650.0, 1695.0, 1699.0, 1700.0, 1701.0, 1750.0, 1799.0, 1800.0, 1850.0, 1897.0, 1900.0, 1950.0, 1960.0, 1997.0, 1998.0, 1999.0, 2000.0, 2050.0, 2098.0, 2100.0, 2150.0, 2198.0, 2199.0, 2200.0, 2250.0, 2298.0, 2300.0, 2350.0, 2400.0, 2450.0, 2500.0, 2599.0, 2600.0, 2699.0, 2700.0, 2750.0, 2800.0, 2830.0, 2850.0, 2900.0, 2950.0, 2998.0, 3000.0, 3100.0, 3200.0, 3300.0, 3400.0, 3499.0, 3500.0, 3600.0, 3650.0, 3700.0, 3800.0, 3850.0, 3900.0, 4000.0, 4100.0, 4198.0, 4200.0, 4300.0, 4400.0, 4500.0, 4700.0, 4800.0, 4900.0, 5000.0, 5100.0, 5313.0, 5500.0, 5800.0, 5900.0, 6000.0, 6500.0, 6666.0, 6800.0, 6900.0, 7000.0, 7200.0, 7500.0, 7800.0, 8000.0, 8500.0, 8900.0, 9000.0, 9500.0, 9800.0, 9999.0, 10000.0, 11000.0, 11109.0, 11111.0, 11500.0, 12000.0, 12345.0, 12500.0, 13000.0, 14000.0, 15000.0, 15500.0, 18000.0, 19000.0, 19999.0, 20000.0, 22000.0, 39000.0, 40000.0, 42000.0, 45000.0, 48000.0, 50000.0, 55000.0, 58000.0, 60000.0, 63000.0, 65000.0, 67000.0, 68000.0, 70000.0, 72000.0, 75000.0, 76000.0, 77000.0, 78000.0, 79000.0, 80000.0, 80002.0, 83000.0, 85000.0, 86000.0, 87000.0, 88000.0, 89000.0, 90000.0, 90900.0, 93000.0, 94000.0, 95000.0, 97000.0, 98000.0, 98208.0, 99000.0, 100000.0, 104500.0, 105000.0, 107100.0, 108000.0, 110000.0, 111111.0, 113000.0, 115000.0, 120000.0, 122000.0, 123000.0, 123456.0, 125000.0, 126000.0, 128000.0, 130000.0, 131776.0, 134999.0, 135000.0, 138000.0, 139586.0, 139998.0, 139999.0, 140000.0, 144999.0, 145000.0, 149000.0, 149997.0, 149998.0, 149999.0, 150000.0, 155000.0, 156999.0, 157000.0, 158000.0, 159000.0, 159999.0, 160000.0, 161000.0, 165000.0, 167000.0, 168000.0, 168998.0, 169000.0, 169999.0, 170000.0, 171000.0, 172000.0, 174335.0, 174998.0, 174999.0, 175000.0, 177000.0, 178000.0, 179000.0, 179998.0, 179999.0, 180000.0, 182071.0, 183000.0, 185000.0, 187000.0, 189000.0, 189616.0, 190000.0, 194150.0, 194998.0, 195000.0, 195860.0, 197000.0, 197600.0, 198000.0, 198002.0, 198999.0, 199000.0, 199998.0, 200000.0, 200003.0, 202000.0, 205000.0, 210000.0, 215000.0, 217998.0, 218000.0, 219000.0, 219999.0, 220000.0, 221850.0, 222314.0, 224999.0, 225000.0, 226998.0, 227000.0, 229998.0, 230000.0, 231000.0, 232000.0, 234000.0, 235000.0, 235600.0, 236000.0, 237000.0, 237999.0, 238000.0, 239000.0, 240000.0, 240500.0, 241000.0, 244000.0, 245000.0, 245980.0, 246000.0, 247000.0, 248000.0, 249000.0, 249999.0, 250000.0, 250002.0, 250996.0, 251600.0, 254000.0, 254998.0, 255000.0, 255041.0, 258000.0, 259000.0, 260000.0, 263610.0, 265000.0, 265611.0, 268000.0, 268708.0, 269000.0, 269999.0, 270000.0, 270100.0, 272000.0, 272700.0, 272997.0, 273000.0, 274000.0, 275000.0, 276000.0, 277000.0, 279000.0, 280000.0, 280998.0, 283500.0, 284998.0, 285000.0, 288600.0, 289999.0, 290000.0, 291000.0, 292380.0, 295000.0, 296600.0, 296900.0, 297000.0, 299000.0, 299999.0, 300000.0, 300500.0, 303600.0, 303900.0, 304000.0, 305000.0, 309999.0, 310000.0, 312000.0, 315000.0, 319000.0, 320000.0, 322000.0, 324000.0, 325000.0, 326000.0, 327000.0, 328000.0, 329999.0, 330000.0, 331000.0, 335000.0, 338000.0, 338231.0, 339000.0, 339998.0, 340000.0, 343000.0, 344000.0, 345000.0, 349000.0, 349999.0, 350000.0, 351500.0, 355000.0, 357000.0, 358000.0, 359600.0, 359999.0, 360000.0, 362999.0, 365000.0, 366300.0, 368000.0, 370000.0, 373000.0, 374000.0, 375000.0, 377400.0, 378000.0, 379999.0, 380000.0, 382000.0, 382180.0, 384000.0, 384200.0, 385000.0, 387000.0, 389000.0, 389999.0, 390000.0, 392200.0, 394000.0, 394998.0, 395000.0, 396000.0, 398000.0, 399647.0, 399999.0, 400000.0, 401000.0, 404000.0, 405000.0, 408000.0, 409000.0, 410000.0, 411000.0, 415000.0, 419000.0, 419999.0, 420000.0, 424000.0, 425000.0, 425002.0, 425128.0, 430000.0, 433600.0, 435000.0, 435700.0, 438000.0, 440000.0, 440300.0, 441000.0, 449000.0, 449996.0, 449998.0, 449999.0, 450000.0, 454000.0, 455000.0, 459000.0, 459997.0, 459999.0, 460000.0, 462000.0, 465000.0, 470000.0, 475000.0, 477000.0, 478000.0, 479000.0, 480000.0, 480996.0, 485000.0, 486000.0, 489000.0, 490000.0, 492750.0, 495000.0, 499000.0, 499998.0, 499999.0, 500000.0, 504000.0, 508000.0, 510000.0, 512000.0, 520000.0, 520500.0, 525000.0, 525350.0, 530000.0, 540000.0, 545000.0, 548000.0, 549999.0, 550000.0, 558000.0, 559000.0, 560000.0, 564999.0, 570000.0, 572000.0, 575000.0, 580000.0, 585000.0, 587000.0, 590000.0, 595000.0, 597999.0, 599997.0, 600000.0, 610000.0, 620000.0, 630000.0, 634000.0, 638000.0, 638999.0, 640000.0, 645000.0, 650000.0, 655000.0, 660000.0, 665000.0, 667000.0, 670000.0, 675000.0, 679999.0, 680000.0, 690000.0, 695000.0, 697998.0, 699999.0, 700000.0, 710000.0, 715000.0, 715708.0, 717000.0, 719998.0, 720000.0, 725000.0, 727860.0, 730000.0, 734000.0, 735000.0, 740000.0, 742000.0, 748000.0, 750000.0, 750100.0, 753000.0, 755000.0, 760000.0, 770000.0, 780000.0, 784000.0, 785000.0, 788999.0, 790000.0, 795000.0, 799999.0, 800000.0, 810000.0, 820000.0, 825000.0, 830000.0, 839000.0, 839800.0, 840000.0, 843000.0, 845000.0, 849000.0, 849999.0, 850000.0, 854000.0, 855000.0, 860000.0, 865000.0, 870000.0, 880000.0, 881000.0, 885000.0, 889000.0, 890000.0, 899000.0, 900000.0, 920000.0, 930000.0, 940000.0, 949997.0, 950000.0, 959999.0, 960000.0, 970000.0, 975000.0, 980000.0, 985000.0, 989997.0, 989999.0, 990000.0, 995000.0, 997497.0, 999999.0, 1000000.0, 1020000.0, 1030000.0, 1049998.0, 1050000.0, 1058900.0, 1060000.0, 1070000.0, 1080000.0, 1090000.0, 1090950.0, 1099999.0, 1100000.0, 1110000.0, 1111111.0, 1120000.0, 1130000.0, 1150000.0, 1160000.0, 1170000.0, 1180000.0, 1190000.0, 1199998.0, 1200000.0, 1230000.0, 1250000.0, 1260000.0, 1275000.0, 1280000.0, 1289998.0, 1290000.0, 1300000.0, 1349999.0, 1350000.0, 1365000.0, 1380000.0, 1390000.0, 1400000.0, 1420000.0, 1449998.0, 1450000.0, 1480000.0, 1490000.0, 1498997.0, 1499999.0, 1500000.0, 1550000.0, 1600000.0, 1620000.0, 1640000.0, 1650000.0, 1657000.0, 1700000.0, 1734400.0, 1770000.0, 1799999.0, 1800000.0, 1810000.0, 1850000.0, 1900000.0, 1990000.0, 2000000.0, 2100000.0, 2150000.0, 2200000.0, 2250000.0, 2300000.0, 2400000.0, 2500000.0, 2600000.0, 2700000.0, 2750000.0, 2800000.0, 2900000.0, 2950000.0, 3000000.0, 3200000.0, 3250000.0, 3300000.0, 3450000.0, 3500000.0, 3700000.0, 4000000.0, 4200000.0, 4300000.0, 4500000.0, 5500000.0, 6500000.0, 7000000.0, 8000000.0, 8900000.0, 9000000.0, 10000000.0, 21000000.0, 22410867.0, 22530250.0, 25574003.0, 27240491.0, 29253534.0, 33000000.0, 45000000.0, 50000000.0, 55051000.0, 75000000.0, 95000000.0, 96287632.0, 97019147.0, 98904044.0, 105000000.0, 128000000.0, 130000000.0, 135000000.0, 140000000.0, 150000000.0, 160000000.0, 180000000.0, 195000000.0, 250000000.0, 380000000.0, 390000000.0, 420000000.0, 520000000.0, 550000000.0, 600000000.0, 649999998.0, 650000000.0, 1000000000.0, 1099000000.0, 1100000000.0, 1200000000.0, 1485000000.0, 1800000000.0, 2000000000.0, 2500000000.0, 4200000000.0, 8888888886.0, 9999999999.0, 100000000000.0, 888888888888888.0]\n"
     ]
    }
   ],
   "source": [
    "valeurs_uniques = sorted(data['Price'].dropna().unique())\n",
    "print(valeurs_uniques)\n"
   ]
  },
  {
   "cell_type": "code",
   "execution_count": null,
   "id": "0fabc2cd",
   "metadata": {},
   "outputs": [],
   "source": [
    "data = data[~((data['Price'] < 100) | (data['Price'] >= 8888888886.0) )]\n"
   ]
  },
  {
   "cell_type": "code",
   "execution_count": 52,
   "id": "1fd20f0e",
   "metadata": {},
   "outputs": [],
   "source": [
    "data.to_csv('cleaned_version.csv', index=False)"
   ]
  }
 ],
 "metadata": {
  "kernelspec": {
   "display_name": "Python 3 (ipykernel)",
   "language": "python",
   "name": "python3"
  },
  "language_info": {
   "codemirror_mode": {
    "name": "ipython",
    "version": 3
   },
   "file_extension": ".py",
   "mimetype": "text/x-python",
   "name": "python",
   "nbconvert_exporter": "python",
   "pygments_lexer": "ipython3",
   "version": "3.11.5"
  }
 },
 "nbformat": 4,
 "nbformat_minor": 5
}
