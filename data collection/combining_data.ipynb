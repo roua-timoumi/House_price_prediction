{
 "cells": [
  {
   "cell_type": "code",
   "execution_count": 2,
   "id": "714aae2e",
   "metadata": {},
   "outputs": [
    {
     "name": "stdout",
     "output_type": "stream",
     "text": [
      "           Property Type Governorate           Location Area (m²)  Bedrooms  \\\n",
      "0      Maisons et Villas      Sousse       Sousse Riadh       112       6.0   \n",
      "1      Maisons et Villas      Sousse            Sahloul       400       7.0   \n",
      "2      Maisons et Villas       Tunis        La Goulette       100       3.0   \n",
      "3      Maisons et Villas      Sousse       Sousse Riadh       404       6.0   \n",
      "4      Maisons et Villas    Monastir  Ksibet El Mdiouni       460       5.0   \n",
      "...                  ...         ...                ...       ...       ...   \n",
      "10598       Appartements      Ariana        El Menzah 7       NaN       3.0   \n",
      "10599       Appartements      Nabeul             Mrezga        66       1.0   \n",
      "10600       Appartements      Sousse     Sousse Jawhara       120       2.0   \n",
      "10601       Appartements      Sousse           Kantaoui       100       3.0   \n",
      "10602       Appartements      Sousse           Kantaoui       140       3.0   \n",
      "\n",
      "      Bathrooms Transaction Type      Price  \n",
      "0             2         À Vendre   230000.0  \n",
      "1             5         À Vendre  1350000.0  \n",
      "2             1          À Louer     1300.0  \n",
      "3             4         À Vendre   680000.0  \n",
      "4             2         À Vendre   520000.0  \n",
      "...         ...              ...        ...  \n",
      "10598         1          À Louer      900.0  \n",
      "10599         1         À Vendre   250996.0  \n",
      "10600         1          À Louer     1100.0  \n",
      "10601         4          À Louer     1300.0  \n",
      "10602         2          À Louer     1500.0  \n",
      "\n",
      "[10603 rows x 8 columns]\n"
     ]
    }
   ],
   "source": [
    "import pandas as pd\n",
    "\n",
    "df = pd.read_csv('tayara_data.csv')\n",
    "\n",
    "df.rename(columns={\n",
    "    'Type de bien': 'Property Type',\n",
    "    'Ville': 'Governorate',\n",
    "    'Place exacte': 'Location',\n",
    "    'Superficie (m²)': 'Area (m²)',\n",
    "    'Chambres': 'Bedrooms',\n",
    "    'Salles de bains': 'Bathrooms',\n",
    "    'Type de transaction': 'Transaction Type',\n",
    "    'Prix (DT)': 'Price'\n",
    "}, inplace=True)\n",
    "\n",
    "print(df)\n",
    "\n",
    "df.to_csv('tayara_data_updated.csv', index=False)"
   ]
  },
  {
   "cell_type": "code",
   "execution_count": 3,
   "id": "e2aa35f0",
   "metadata": {},
   "outputs": [],
   "source": [
    "import pandas as pd\n",
    "\n",
    "df_mubawab = pd.read_csv('mubawab.csv')\n",
    "df_tayara = pd.read_csv('tayara_data_updated.csv')\n",
    "\n",
    "df_combined = pd.concat([df_mubawab, df_tayara], axis=0, ignore_index=True)\n",
    "\n",
    "df_combined.to_csv('combined_data.csv', index=False)\n",
    "\n"
   ]
  }
 ],
 "metadata": {
  "kernelspec": {
   "display_name": "Python 3 (ipykernel)",
   "language": "python",
   "name": "python3"
  },
  "language_info": {
   "codemirror_mode": {
    "name": "ipython",
    "version": 3
   },
   "file_extension": ".py",
   "mimetype": "text/x-python",
   "name": "python",
   "nbconvert_exporter": "python",
   "pygments_lexer": "ipython3",
   "version": "3.11.5"
  }
 },
 "nbformat": 4,
 "nbformat_minor": 5
}
